{
 "cells": [
  {
   "cell_type": "markdown",
   "metadata": {},
   "source": [
    "# Milestone Project 1: Walkthrough Steps Workbook\n",
    "\n",
    "Below is a set of steps for you to follow to try to create the Tic Tac Toe Milestone Project game!"
   ]
  },
  {
   "cell_type": "markdown",
   "metadata": {},
   "source": [
    "#### Some suggested tools before you get started:\n",
    "To take input from a user:\n",
    "\n",
    "    player1 = input(\"Please pick a marker 'X' or 'O'\")\n",
    "    \n",
    "Note that input() takes in a string. If you need an integer value, use\n",
    "\n",
    "    position = int(input('Please enter a number'))\n",
    "    \n",
    "<br>To clear the screen between moves:\n",
    "\n",
    "    from IPython.display import clear_output\n",
    "    clear_output()\n",
    "    \n",
    "Note that clear_output() will only work in jupyter. To clear the screen in other IDEs, consider:\n",
    "\n",
    "    print('\\n'*100)\n",
    "    \n",
    "This scrolls the previous board up out of view. Now on to the program!"
   ]
  },
  {
   "cell_type": "markdown",
   "metadata": {},
   "source": [
    "**Step 1: Write a function that can print out a board. Set up your board as a list, where each index 1-9 corresponds with a number on a number pad, so you get a 3 by 3 board representation.**"
   ]
  },
  {
   "cell_type": "code",
   "execution_count": 1,
   "metadata": {
    "collapsed": false
   },
   "outputs": [],
   "source": [
    "from IPython.display import clear_output\n",
    "\n",
    "def display_board(board):\n",
    "    if len(board) == 10:\n",
    "        print('{}|{}|{}\\n{}|{}|{}\\n{}|{}|{}'.format(board[1],board[2],board[3],board[4],board[5],board[6],board[7],board[8],board[9]))\n",
    "    else: \n",
    "        print('invalid board data with {} element'.format(len(board)))\n",
    "    #pass"
   ]
  },
  {
   "cell_type": "markdown",
   "metadata": {},
   "source": [
    "**TEST Step 1:** run your function on a test version of the board list, and make adjustments as necessary"
   ]
  },
  {
   "cell_type": "code",
   "execution_count": 2,
   "metadata": {
    "collapsed": false
   },
   "outputs": [],
   "source": [
    "test_board = ['','X','O','X','O','X','O','X','O',' ']\n",
    "display_board(test_board)\n",
    "clear_output()"
   ]
  },
  {
   "cell_type": "markdown",
   "metadata": {},
   "source": [
    "**TEST Step 2:** run the function to make sure it returns the desired output"
   ]
  },
  {
   "cell_type": "code",
   "execution_count": 3,
   "metadata": {
    "collapsed": false
   },
   "outputs": [],
   "source": [
    "#move = player_input()"
   ]
  },
  {
   "cell_type": "markdown",
   "metadata": {},
   "source": [
    "**Step 3: Write a function that takes in the board list object, a marker ('X' or 'O'), and a desired position (number 1-9) and assigns it to the board.**"
   ]
  },
  {
   "cell_type": "code",
   "execution_count": 4,
   "metadata": {
    "collapsed": true
   },
   "outputs": [],
   "source": [
    "def place_marker(board, marker, position):\n",
    "    board[position] = marker\n",
    "    return(board)"
   ]
  },
  {
   "cell_type": "markdown",
   "metadata": {},
   "source": [
    "**TEST Step 3:** run the place marker function using test parameters and display the modified board"
   ]
  },
  {
   "cell_type": "code",
   "execution_count": 5,
   "metadata": {
    "collapsed": false
   },
   "outputs": [
    {
     "name": "stdout",
     "output_type": "stream",
     "text": [
      "X|O|X\n",
      "O|X|O\n",
      "X|$| \n"
     ]
    }
   ],
   "source": [
    "place_marker(test_board,'$',8)\n",
    "display_board(test_board)"
   ]
  },
  {
   "cell_type": "markdown",
   "metadata": {},
   "source": [
    "**Step 4: Write a function that takes in a board and a mark (X or O) and then checks to see if that mark has won. **"
   ]
  },
  {
   "cell_type": "code",
   "execution_count": 6,
   "metadata": {
    "collapsed": false
   },
   "outputs": [],
   "source": [
    "def win_check(board, mark):\n",
    "    board_position_mark = [x for x in range(1,10) if board[x] in [mark]]\n",
    "    winning_positions = [[1,2,3],[4,5,6],[7,8,9],[1,4,7],[2,5,8],[3,6,9],[1,5,9],[3,5,7]]\n",
    "    \n",
    "    \n",
    "    check_all = [set(position).issubset(set(board_position_mark)) for position in winning_positions]\n",
    "    return(any(check_all))\n",
    "    "
   ]
  },
  {
   "cell_type": "markdown",
   "metadata": {},
   "source": [
    "**TEST Step 4:** run the win_check function against our test_board - it should return True"
   ]
  },
  {
   "cell_type": "code",
   "execution_count": 7,
   "metadata": {
    "collapsed": false
   },
   "outputs": [],
   "source": [
    "#board_position_mark = [x for x in range(1,10) if test_board[x] == 'X']\n",
    "#print(board_position_mark)\n",
    "#game_board"
   ]
  },
  {
   "cell_type": "markdown",
   "metadata": {},
   "source": [
    "**Step 5: Write a function that uses the random module to randomly decide which player goes first. You may want to lookup random.randint() Return a string of which player went first.**"
   ]
  },
  {
   "cell_type": "code",
   "execution_count": 8,
   "metadata": {
    "collapsed": true
   },
   "outputs": [],
   "source": [
    "import random\n",
    "\n",
    "def choose_first():\n",
    "    return(random.randint(0,1))\n",
    "\n"
   ]
  },
  {
   "cell_type": "code",
   "execution_count": 9,
   "metadata": {
    "collapsed": false
   },
   "outputs": [],
   "source": [
    "choice = choose_first()"
   ]
  },
  {
   "cell_type": "code",
   "execution_count": 10,
   "metadata": {
    "collapsed": true
   },
   "outputs": [],
   "source": [
    "def get_first_mover(choice):\n",
    "    if choice == 1:\n",
    "        return('X')\n",
    "    else:\n",
    "        return('O')"
   ]
  },
  {
   "cell_type": "markdown",
   "metadata": {},
   "source": [
    "**Step 6: Write a function that returns a boolean indicating whether a space on the board is freely available.**"
   ]
  },
  {
   "cell_type": "code",
   "execution_count": 11,
   "metadata": {
    "collapsed": true
   },
   "outputs": [],
   "source": [
    "def space_check(board, position):\n",
    "    return(board[position] not in ['X', 'O'])\n",
    "    #pass"
   ]
  },
  {
   "cell_type": "markdown",
   "metadata": {},
   "source": [
    "**Step 7: Write a function that checks if the board is full and returns a boolean value. True if full, False otherwise.**"
   ]
  },
  {
   "cell_type": "code",
   "execution_count": 12,
   "metadata": {
    "collapsed": true
   },
   "outputs": [],
   "source": [
    "def full_board_check(board):\n",
    "    taken_positions = [x for x in range(1,10) if board[x] in ['X','O']]\n",
    "    return(len([taken_position]) == 9)\n",
    "    #pass"
   ]
  },
  {
   "cell_type": "code",
   "execution_count": null,
   "metadata": {
    "collapsed": true
   },
   "outputs": [],
   "source": []
  },
  {
   "cell_type": "markdown",
   "metadata": {},
   "source": [
    "**Step 8: Write a function that asks for a player's next position (as a number 1-9) and then uses the function from step 6 to check if it's a free position. If it is, then return the position for later use.**"
   ]
  },
  {
   "cell_type": "code",
   "execution_count": 13,
   "metadata": {
    "collapsed": true
   },
   "outputs": [],
   "source": [
    "def player_choice(board):\n",
    "    \n",
    "    pass"
   ]
  },
  {
   "cell_type": "markdown",
   "metadata": {},
   "source": [
    "**Step 9: Write a function that asks the player if they want to play again and returns a boolean True if they do want to play again.**"
   ]
  },
  {
   "cell_type": "code",
   "execution_count": 19,
   "metadata": {
    "collapsed": true
   },
   "outputs": [],
   "source": [
    "def replay():\n",
    "    response = input('Do you want to play again? Choose Yes(Y) or No(N):')\n",
    "    if response == 'Y':\n",
    "        return(True)\n",
    "    if response == 'N':\n",
    "        return(False)\n",
    "    if response not in ['Y','N']:\n",
    "        return('error')"
   ]
  },
  {
   "cell_type": "code",
   "execution_count": 15,
   "metadata": {
    "collapsed": false
   },
   "outputs": [],
   "source": [
    "#replay_choice = replay()\n",
    "#while replay_choice == 'error':\n",
    "#        replay_choice = replay()"
   ]
  },
  {
   "cell_type": "markdown",
   "metadata": {},
   "source": [
    "**Step 2: Write a function that can take in a player input and assign their marker as 'X' or 'O'. Think about using *while* loops to continually ask until you get a correct answer.**"
   ]
  },
  {
   "cell_type": "code",
   "execution_count": 16,
   "metadata": {
    "collapsed": false
   },
   "outputs": [],
   "source": [
    "def player_input():\n",
    "    global game_board\n",
    "    global choice\n",
    "    taken_positions = [x for x in range(1,10) if game_board[x] in ['X','O']]\n",
    "    #X go first\n",
    "    current_turn = len(taken_positions) + 1\n",
    "    if current_turn%2 == choice:\n",
    "        this_turn_mark = 'X'\n",
    "    else:\n",
    "        this_turn_mark = 'O'\n",
    "\n",
    "    input_accepted = False\n",
    "    while input_accepted == False:\n",
    "        input_position = int(input('Your next move is:').strip() or 0)\n",
    "        while input == '' or isinstance(input_position, int) == False:\n",
    "            input_position = input('Wrong input! Again, your next move is:')\n",
    "        if input_position in taken_positions or + input_position not in range(1,10):\n",
    "            print('invalid position, from 1-9, can only get positions {}'.format([x for x in range(1,10) if x not in taken_positions]))\n",
    "            pass\n",
    "        else:\n",
    "            print('{} is valid position'.format(input_position))\n",
    "            input_accepted = True\n",
    "\n",
    "    result = {'mark':this_turn_mark, 'position_now':input_position}\n",
    "    \n",
    "    return (result)"
   ]
  },
  {
   "cell_type": "markdown",
   "metadata": {
    "collapsed": true
   },
   "source": [
    "**Step 10: Here comes the hard part! Use while loops and the functions you've made to run the game!**"
   ]
  },
  {
   "cell_type": "code",
   "execution_count": 20,
   "metadata": {
    "collapsed": false
   },
   "outputs": [
    {
     "name": "stdout",
     "output_type": "stream",
     "text": [
      "O|X|O\n",
      "X|O|X\n",
      "O| | \n",
      "Player O wins!\n",
      "Do you want to play again? Choose Yes(Y) or No(N):\n",
      "Please only input Y or N\n",
      "Do you want to play again? Choose Yes(Y) or No(N):g\n",
      "Please only input Y or N\n",
      "Do you want to play again? Choose Yes(Y) or No(N):N\n",
      "Thank you for having fun ^^\n"
     ]
    }
   ],
   "source": [
    "print('Welcome to Tic Tac Toe!')\n",
    "\n",
    "#while True:\n",
    "replay_choice = True\n",
    "while replay_choice == True:\n",
    "    # Set the game up here\n",
    "    game_board = ['',' ',' ',' ',' ',' ',' ',' ',' ',' ']\n",
    "    \n",
    "    #pass\n",
    "    game_on = True\n",
    "    choice = choose_first()\n",
    "    first_mover = get_first_mover(choice)\n",
    "    second_mover = [x for x in ['X','O'] if x != first_mover][0]\n",
    "    print('Fist mover is {}'.format(first_mover))\n",
    "    print('Second mover is {}'.format(second_mover))\n",
    "    #while game_on:\n",
    "    while game_on:\n",
    "        #Player 1 Turn\n",
    "        move = player_input()\n",
    "        clear_output()\n",
    "        game_board = place_marker(game_board, move['mark'], move['position_now'])\n",
    "        display_board(game_board)\n",
    "        if win_check(game_board,first_mover):\n",
    "            print('Player {} wins!'.format(first_mover))\n",
    "            game_on = not(win_check(game_board,'X') | win_check(game_board,'O'))\n",
    "            continue\n",
    "        else:\n",
    "            pass\n",
    "        # Player2's turn.\n",
    "        move = player_input()\n",
    "        clear_output()\n",
    "        game_board = place_marker(game_board, move['mark'], move['position_now'])\n",
    "        display_board(game_board)\n",
    "        if win_check(game_board,second_mover):\n",
    "            print('Player {} wins!'.format(second_mover))\n",
    "            game_on = not(win_check(game_board,'X') | win_check(game_board,'O'))\n",
    "            continue\n",
    "        else:\n",
    "            pass\n",
    "    \n",
    "            #pass\n",
    "    \n",
    "    replay_choice = replay()\n",
    "    \n",
    "    #continue asking for the right replay choice\n",
    "    while replay_choice == 'error':\n",
    "        print('Please only input Y or N')\n",
    "        replay_choice = replay()\n",
    "    #if not replay():\n",
    "        #break\n",
    "    if replay_choice == False:\n",
    "        print('Thank you for having fun ^^')\n",
    "        break\n",
    "        \n",
    "    pass"
   ]
  },
  {
   "cell_type": "code",
   "execution_count": 18,
   "metadata": {
    "collapsed": false
   },
   "outputs": [
    {
     "data": {
      "text/plain": [
       "True"
      ]
     },
     "execution_count": 18,
     "metadata": {},
     "output_type": "execute_result"
    }
   ],
   "source": [
    "win_check(game_board,first_mover)"
   ]
  },
  {
   "cell_type": "markdown",
   "metadata": {
    "collapsed": true
   },
   "source": [
    "\n",
    "## Good Job!"
   ]
  }
 ],
 "metadata": {
  "kernelspec": {
   "display_name": "Python 3",
   "language": "python",
   "name": "python3"
  },
  "language_info": {
   "codemirror_mode": {
    "name": "ipython",
    "version": 3
   },
   "file_extension": ".py",
   "mimetype": "text/x-python",
   "name": "python",
   "nbconvert_exporter": "python",
   "pygments_lexer": "ipython3",
   "version": "3.6.0"
  }
 },
 "nbformat": 4,
 "nbformat_minor": 1
}
